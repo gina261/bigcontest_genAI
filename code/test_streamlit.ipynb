{
 "cells": [
  {
   "cell_type": "code",
   "execution_count": 1,
   "metadata": {},
   "outputs": [],
   "source": [
    "# gemini 설정\n",
    "# GOOGLE_API_KEY = st.secrets[\"GOOGLE_API_KEY\"]\n",
    "# genai.configure(api_key=GOOGLE_API_KEY)"
   ]
  },
  {
   "cell_type": "code",
   "execution_count": null,
   "metadata": {},
   "outputs": [],
   "source": [
    "def selected_region_format(region): # 제주특별자치도 서귀포시 남원읍\n",
    "    region_parts = region.split(' ')\n",
    "    if region_parts[0] == \"제주특별자치도\" and len(region_parts) >= 3:\n",
    "        return region_parts[1] + \" \" + region_parts[2]\n",
    "    else:\n",
    "        return region"
   ]
  },
  {
   "cell_type": "code",
   "execution_count": 1,
   "metadata": {},
   "outputs": [
    {
     "data": {
      "text/plain": [
       "['제주특별자치도 서귀포시 남원읍', '제주시 (제주특별자치도 북부)']"
      ]
     },
     "execution_count": 1,
     "metadata": {},
     "output_type": "execute_result"
    }
   ],
   "source": [
    "selected_regions = [\"제주특별자치도 서귀포시 남원읍\", \"제주시 (제주특별자치도 북부)\"]\n",
    "\n",
    "[selected_region_format(i) for i in selected_regions]"
   ]
  },
  {
   "cell_type": "code",
   "execution_count": null,
   "metadata": {},
   "outputs": [],
   "source": []
  }
 ],
 "metadata": {
  "kernelspec": {
   "display_name": "base",
   "language": "python",
   "name": "python3"
  },
  "language_info": {
   "codemirror_mode": {
    "name": "ipython",
    "version": 3
   },
   "file_extension": ".py",
   "mimetype": "text/x-python",
   "name": "python",
   "nbconvert_exporter": "python",
   "pygments_lexer": "ipython3",
   "version": "3.11.5"
  }
 },
 "nbformat": 4,
 "nbformat_minor": 2
}
